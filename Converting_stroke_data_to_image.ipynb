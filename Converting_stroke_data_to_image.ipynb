{
  "nbformat": 4,
  "nbformat_minor": 0,
  "metadata": {
    "colab": {
      "name": "Converting stroke data to image.ipynb",
      "provenance": [],
      "authorship_tag": "ABX9TyORkPOk4VFzeW9Cbx/hlI1y",
      "include_colab_link": true
    },
    "kernelspec": {
      "name": "python3",
      "display_name": "Python 3"
    }
  },
  "cells": [
    {
      "cell_type": "markdown",
      "metadata": {
        "id": "view-in-github",
        "colab_type": "text"
      },
      "source": [
        "<a href=\"https://colab.research.google.com/github/dsakharuk/Deliverables/blob/master/Converting_stroke_data_to_image.ipynb\" target=\"_parent\"><img src=\"https://colab.research.google.com/assets/colab-badge.svg\" alt=\"Open In Colab\"/></a>"
      ]
    },
    {
      "cell_type": "code",
      "metadata": {
        "id": "ushpjf6XsDj6",
        "colab_type": "code",
        "outputId": "07e7f1a7-05bc-4115-fb39-d0b25440ff70",
        "colab": {
          "base_uri": "https://localhost:8080/",
          "height": 35
        }
      },
      "source": [
        "from google.colab import drive\n",
        "drive.mount('/content/drive')\n",
        "import pandas as pd\n",
        "import numpy as np\n",
        "import matplotlib.pyplot as plt\n",
        "from PIL import Image, ImageDraw\n",
        "import IPython.display\n",
        "import PIL.Image\n",
        "import random\n",
        "from skimage.transform import resize\n",
        "\n",
        "\n",
        "# I read in my training data set here\n",
        "path = \"/content/drive/My Drive/Data/train-data.csv\"\n",
        "df = pd.read_csv(path, sep= \";\", header = 0,quotechar=\"'\")\n"
      ],
      "execution_count": 3,
      "outputs": [
        {
          "output_type": "stream",
          "text": [
            "Drive already mounted at /content/drive; to attempt to forcibly remount, call drive.mount(\"/content/drive\", force_remount=True).\n"
          ],
          "name": "stdout"
        }
      ]
    },
    {
      "cell_type": "code",
      "metadata": {
        "id": "eGiOR-GkPSVR",
        "colab_type": "code",
        "colab": {}
      },
      "source": [
        "#This is my conversion function. It takes the stroke data of each image and draws out the image by connecting the dots.\n",
        "\n",
        "def draw_it(raw_strokes):\n",
        "    image = Image.new(\"1\", (900,900), color=255)\n",
        "    image_draw = ImageDraw.Draw(image)\n",
        "\n",
        "    for stroke in eval(raw_strokes):\n",
        "        for i in range(len(stroke)-1):    \n",
        "            image_draw.line([stroke[i]['x'], \n",
        "                             stroke[i]['y'],\n",
        "                             stroke[i+1]['x'], \n",
        "                             stroke[i+1]['y']],\n",
        "                            fill=0, width=6)\n",
        "\n",
        "    return np.array(image) \n"
      ],
      "execution_count": 0,
      "outputs": []
    },
    {
      "cell_type": "code",
      "metadata": {
        "id": "RVcGbGD5codK",
        "colab_type": "code",
        "colab": {}
      },
      "source": [
        "#This is a tester block that I made to print out 10 random images using my conversion method above\n",
        "\n",
        "raw_strokes = df['data']\n",
        "\n",
        "for i in range(10):\n",
        "  x = random.randrange(0,151162)\n",
        "  raww = raw_strokes[x]\n",
        "  IPython.display.display(PIL.Image.fromarray(draw_it(raww)))\n"
      ],
      "execution_count": 0,
      "outputs": []
    },
    {
      "cell_type": "code",
      "metadata": {
        "id": "NjOi1JYXJpjX",
        "colab_type": "code",
        "colab": {
          "base_uri": "https://localhost:8080/",
          "height": 35
        },
        "outputId": "f263391c-739d-409a-d069-ef17c9d5800b"
      },
      "source": [
        "#Creating the y array of image classes\n",
        "y = df['symbol_id']\n"
      ],
      "execution_count": 7,
      "outputs": [
        {
          "output_type": "stream",
          "text": [
            "45\n"
          ],
          "name": "stdout"
        }
      ]
    },
    {
      "cell_type": "code",
      "metadata": {
        "id": "7j7dhdKN6UJg",
        "colab_type": "code",
        "colab": {}
      },
      "source": [
        "#Creating the X array. X will be each image in numpy array form.\n",
        "\n",
        "#THIS METHOD IS IN BETA. \n",
        "\n",
        "handwriting = df['data']\n",
        "X = []\n",
        "for i in handwriting:\n",
        "  a = draw_it(i)\n",
        "  X.append(a)\n",
        "X = np.array(X)\n",
        "\n",
        "\n"
      ],
      "execution_count": 0,
      "outputs": []
    }
  ]
}