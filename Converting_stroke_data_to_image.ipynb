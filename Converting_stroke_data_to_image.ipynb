{
  "nbformat": 4,
  "nbformat_minor": 0,
  "metadata": {
    "colab": {
      "name": "Converting stroke data to image.ipynb",
      "provenance": [],
      "collapsed_sections": [],
      "machine_shape": "hm",
      "authorship_tag": "ABX9TyOtiBQYQuq4s+TgxnGCYSTF",
      "include_colab_link": true
    },
    "kernelspec": {
      "name": "python3",
      "display_name": "Python 3"
    },
    "accelerator": "GPU"
  },
  "cells": [
    {
      "cell_type": "markdown",
      "metadata": {
        "id": "view-in-github",
        "colab_type": "text"
      },
      "source": [
        "<a href=\"https://colab.research.google.com/github/dsakharuk/Deliverables/blob/master/Converting_stroke_data_to_image.ipynb\" target=\"_parent\"><img src=\"https://colab.research.google.com/assets/colab-badge.svg\" alt=\"Open In Colab\"/></a>"
      ]
    },
    {
      "cell_type": "code",
      "metadata": {
        "id": "ushpjf6XsDj6",
        "colab_type": "code",
        "outputId": "61e72766-bf9a-4dd8-b1b9-b9e9b012587f",
        "colab": {
          "base_uri": "https://localhost:8080/",
          "height": 34
        }
      },
      "source": [
        "from google.colab import drive\n",
        "drive.mount('/content/drive')\n",
        "import pandas as pd\n",
        "import numpy as np\n",
        "import matplotlib.pyplot as plt\n",
        "from PIL import Image, ImageDraw\n",
        "import IPython.display\n",
        "import PIL.Image\n",
        "import random\n",
        "from skimage.transform import resize\n",
        "import math\n",
        "from sklearn.utils import shuffle\n",
        "import tensorflow as tf\n",
        "from tensorflow.keras import Sequential\n",
        "from tensorflow.keras.layers import Conv2D, MaxPooling2D, Dense, Flatten, Dropout\n",
        "from PIL import ImageOps\n",
        "import itertools\n",
        "from __future__ import absolute_import\n",
        "from __future__ import division\n",
        "from __future__ import print_function\n",
        "%load_ext tensorboard\n",
        "import datetime, os\n",
        "#!pip install tensorflow==2.0.0\n",
        "\n",
        "#print(tf.__version__)\n",
        "# I read in my training data set here\n",
        "path = \"/content/drive/My Drive/Data/train-data.csv\"\n",
        "df = pd.read_csv(path, sep= \";\", header = 0,quotechar=\"'\")\n",
        "path2 = \"/content/drive/My Drive/Data/test-data.csv\"\n",
        "df_test = pd.read_csv(path2, sep= \";\", header = 0,quotechar=\"'\")"
      ],
      "execution_count": 1,
      "outputs": [
        {
          "output_type": "stream",
          "text": [
            "Drive already mounted at /content/drive; to attempt to forcibly remount, call drive.mount(\"/content/drive\", force_remount=True).\n"
          ],
          "name": "stdout"
        }
      ]
    },
    {
      "cell_type": "code",
      "metadata": {
        "id": "yXVLHX21Mob1",
        "colab_type": "code",
        "outputId": "aadff982-6c28-4f8a-eee3-4091b5737058",
        "colab": {
          "base_uri": "https://localhost:8080/",
          "height": 34
        }
      },
      "source": [
        "print(tf.__version__)"
      ],
      "execution_count": 2,
      "outputs": [
        {
          "output_type": "stream",
          "text": [
            "2.0.0\n"
          ],
          "name": "stdout"
        }
      ]
    },
    {
      "cell_type": "code",
      "metadata": {
        "id": "HhEmKU8P29jv",
        "colab_type": "code",
        "colab": {}
      },
      "source": [
        "#This will create a new array with the shrunk down image sizes \n",
        "#For training\n",
        "raw_strokes = df['data']\n",
        "smaller_images = []\n",
        "for image in raw_strokes:\n",
        "  image_ar = []\n",
        "  indiv_stroke = eval(image)\n",
        "  for stroke_2 in indiv_stroke:\n",
        "    for point in stroke_2:\n",
        "      x = math.floor(point['x'] / 5)\n",
        "      y = math.floor(point['y'] / 5)\n",
        "      image_ar.append((x,y))\n",
        "  smaller_images.append(image_ar)\n",
        "smaller_images.pop()\n",
        "new_images = np.array(smaller_images)\n"
      ],
      "execution_count": 0,
      "outputs": []
    },
    {
      "cell_type": "code",
      "metadata": {
        "id": "ohJuPlvAjZxJ",
        "colab_type": "code",
        "outputId": "c11fd3f4-e332-4f41-9529-705249c1188b",
        "colab": {
          "base_uri": "https://localhost:8080/",
          "height": 240
        }
      },
      "source": [
        "#Trying to crop one image\n",
        "original = PIL.Image.fromarray(draw_it(new_images[2]))\n",
        "original = PIL.ImageOps.expand(original,border=2, fill=1)\n",
        "IPython.display.display(original)\n",
        "cropp = original.crop((5,0,200,200))\n",
        "cropp = PIL.ImageOps.expand(cropp,border=2)\n",
        "IPython.display.display(cropp)\n"
      ],
      "execution_count": 0,
      "outputs": [
        {
          "output_type": "error",
          "ename": "NameError",
          "evalue": "ignored",
          "traceback": [
            "\u001b[0;31m---------------------------------------------------------------------------\u001b[0m",
            "\u001b[0;31mNameError\u001b[0m                                 Traceback (most recent call last)",
            "\u001b[0;32m<ipython-input-2-a8fdbcc6a9cd>\u001b[0m in \u001b[0;36m<module>\u001b[0;34m()\u001b[0m\n\u001b[0;32m----> 1\u001b[0;31m \u001b[0moriginal\u001b[0m \u001b[0;34m=\u001b[0m \u001b[0mPIL\u001b[0m\u001b[0;34m.\u001b[0m\u001b[0mImage\u001b[0m\u001b[0;34m.\u001b[0m\u001b[0mfromarray\u001b[0m\u001b[0;34m(\u001b[0m\u001b[0mdraw_it\u001b[0m\u001b[0;34m(\u001b[0m\u001b[0mnew_images\u001b[0m\u001b[0;34m[\u001b[0m\u001b[0;36m2\u001b[0m\u001b[0;34m]\u001b[0m\u001b[0;34m)\u001b[0m\u001b[0;34m)\u001b[0m\u001b[0;34m\u001b[0m\u001b[0;34m\u001b[0m\u001b[0m\n\u001b[0m\u001b[1;32m      2\u001b[0m \u001b[0moriginal\u001b[0m \u001b[0;34m=\u001b[0m \u001b[0mPIL\u001b[0m\u001b[0;34m.\u001b[0m\u001b[0mImageOps\u001b[0m\u001b[0;34m.\u001b[0m\u001b[0mexpand\u001b[0m\u001b[0;34m(\u001b[0m\u001b[0moriginal\u001b[0m\u001b[0;34m,\u001b[0m\u001b[0mborder\u001b[0m\u001b[0;34m=\u001b[0m\u001b[0;36m2\u001b[0m\u001b[0;34m,\u001b[0m \u001b[0mfill\u001b[0m\u001b[0;34m=\u001b[0m\u001b[0;36m1\u001b[0m\u001b[0;34m)\u001b[0m\u001b[0;34m\u001b[0m\u001b[0;34m\u001b[0m\u001b[0m\n\u001b[1;32m      3\u001b[0m \u001b[0mIPython\u001b[0m\u001b[0;34m.\u001b[0m\u001b[0mdisplay\u001b[0m\u001b[0;34m.\u001b[0m\u001b[0mdisplay\u001b[0m\u001b[0;34m(\u001b[0m\u001b[0moriginal\u001b[0m\u001b[0;34m)\u001b[0m\u001b[0;34m\u001b[0m\u001b[0;34m\u001b[0m\u001b[0m\n\u001b[1;32m      4\u001b[0m \u001b[0mcropp\u001b[0m \u001b[0;34m=\u001b[0m \u001b[0moriginal\u001b[0m\u001b[0;34m.\u001b[0m\u001b[0mcrop\u001b[0m\u001b[0;34m(\u001b[0m\u001b[0;34m(\u001b[0m\u001b[0;36m5\u001b[0m\u001b[0;34m,\u001b[0m\u001b[0;36m0\u001b[0m\u001b[0;34m,\u001b[0m\u001b[0;36m200\u001b[0m\u001b[0;34m,\u001b[0m\u001b[0;36m200\u001b[0m\u001b[0;34m)\u001b[0m\u001b[0;34m)\u001b[0m\u001b[0;34m\u001b[0m\u001b[0;34m\u001b[0m\u001b[0m\n\u001b[1;32m      5\u001b[0m \u001b[0mcropp\u001b[0m \u001b[0;34m=\u001b[0m \u001b[0mPIL\u001b[0m\u001b[0;34m.\u001b[0m\u001b[0mImageOps\u001b[0m\u001b[0;34m.\u001b[0m\u001b[0mexpand\u001b[0m\u001b[0;34m(\u001b[0m\u001b[0mcropp\u001b[0m\u001b[0;34m,\u001b[0m\u001b[0mborder\u001b[0m\u001b[0;34m=\u001b[0m\u001b[0;36m2\u001b[0m\u001b[0;34m)\u001b[0m\u001b[0;34m\u001b[0m\u001b[0;34m\u001b[0m\u001b[0m\n",
            "\u001b[0;31mNameError\u001b[0m: name 'draw_it' is not defined"
          ]
        }
      ]
    },
    {
      "cell_type": "code",
      "metadata": {
        "id": "cdFcS1izfXwW",
        "colab_type": "code",
        "colab": {}
      },
      "source": [
        "#I am going to crop the images here\n",
        "#print((new_images[20][0][0]))\n",
        "#print(new_images[1][0])\n",
        "cropped_images = []\n",
        "#max_x = 0\n",
        "#max_y = 0\n",
        "#min_x = 10000\n",
        "#min_y = 10000\n",
        "#max_dif = 0\n",
        "#max_dif_y =0\n",
        "#counter = 0\n",
        "for imm in new_images:\n",
        "#imm = new_images[10000]\n",
        "  max_x = 0\n",
        "  max_y = 0\n",
        "  min_x = 10000\n",
        "  min_y = 10000\n",
        "  original = PIL.Image.fromarray(draw_it(imm))\n",
        "  for x in imm:\n",
        "    max_x = max(max_x,x[0])\n",
        "    max_y = max(max_y,x[1])\n",
        "    min_x = min(min_x,x[0])\n",
        "    min_y = min(min_y,x[1])\n",
        "    #max_dif = max((max_x-min_x),max_dif)\n",
        "    #max_dif_y = max((max_y-min_y),max_dif_y)\n",
        "  #if max_dif == 795 and counter == 0:\n",
        "     # print(imm)\n",
        "     # print(max_x, min_x)\n",
        "     # counter = 1\n",
        "  left = min_x -10\n",
        "  right = left + 100\n",
        "  top = min_y -10\n",
        "  bottom = top + 100\n",
        "  #IPython.display.display(original)\n",
        "  original = PIL.ImageOps.expand(original,border=25,fill=255)\n",
        "  cropped = original.crop((left,top,right,bottom))\n",
        "  #IPython.display.display(cropped)\n",
        "  cropped_images.append(cropped)\n",
        "  \n",
        "#print(max_x,max_y)\n",
        "#print(min_x,min_y)\n",
        "#print(max_dif,max_dif_y)\n",
        "#print(counter)"
      ],
      "execution_count": 0,
      "outputs": []
    },
    {
      "cell_type": "code",
      "metadata": {
        "id": "-gGyxBrdxeba",
        "colab_type": "code",
        "colab": {}
      },
      "source": [
        "for x in enumerate(cropped_images):\n",
        "  cropp = PIL.ImageOps.expand(x[1],border=2,fill=1)\n",
        "  print(cropp.size)\n",
        "  IPython.display.display(cropp)\n",
        "  print(x[0])\n",
        "\n",
        "#orig = PIL.Image.fromarray(draw_it(new_images[520]))\n",
        "#orig = PIL.ImageOps.expand(orig,border=2)\n",
        "#IPython.display.display(orig)\n",
        "#print(orig.size)\n",
        "#print(cropped_images[10500].shape)"
      ],
      "execution_count": 0,
      "outputs": []
    },
    {
      "cell_type": "code",
      "metadata": {
        "id": "Nd6ABESRWg2j",
        "colab_type": "code",
        "colab": {}
      },
      "source": [
        "#Visualizing first image\n",
        "plt.figure()\n",
        "plt.imshow(cropped_images[70000])\n",
        "plt.colorbar()\n",
        "plt.grid(False)\n",
        "plt.show()"
      ],
      "execution_count": 0,
      "outputs": []
    },
    {
      "cell_type": "code",
      "metadata": {
        "id": "h0X2tx-jP835",
        "colab_type": "code",
        "outputId": "e710f559-8878-4fa3-86c0-6534528fde9b",
        "colab": {
          "base_uri": "https://localhost:8080/",
          "height": 35
        }
      },
      "source": [
        "print(cropped_images[861].getbbox())"
      ],
      "execution_count": 0,
      "outputs": [
        {
          "output_type": "stream",
          "text": [
            "(0, 0, 100, 100)\n"
          ],
          "name": "stdout"
        }
      ]
    },
    {
      "cell_type": "code",
      "metadata": {
        "id": "-U7dIHkBaJSY",
        "colab_type": "code",
        "colab": {}
      },
      "source": [
        "#I will remove all the completely black images from the data set and their key in the Y_train list\n",
        "for a in enumerate(cropped_images):\n",
        "  if a[1].getbbox() == None:\n",
        "    del cropped_images[a[0]]\n",
        "    del y_train_not_shuffled[a[0]]\n"
      ],
      "execution_count": 0,
      "outputs": []
    },
    {
      "cell_type": "code",
      "metadata": {
        "id": "AglVyXnPeu-G",
        "colab_type": "code",
        "outputId": "42325924-93c9-4edb-c57e-c029ac35cde5",
        "colab": {
          "base_uri": "https://localhost:8080/",
          "height": 70
        }
      },
      "source": [
        "#I will convert the list of PIL images into a np array \n",
        "#new_cropped = []\n",
        "#for x in shuffled_images:\n",
        "  #new_cropped.append(np.array(x))\n",
        "#new_cropped = np.asarray(new_cropped)\n",
        "print(new_cropped.shape)\n",
        "print(type(new_cropped[3]))\n",
        "print(len(y_train))\n",
        "#new_cropped = np.expand_dims(new_cropped,axis=3)\n"
      ],
      "execution_count": 0,
      "outputs": [
        {
          "output_type": "stream",
          "text": [
            "(150942, 100, 100, 1)\n",
            "<class 'numpy.ndarray'>\n",
            "150942\n"
          ],
          "name": "stdout"
        }
      ]
    },
    {
      "cell_type": "code",
      "metadata": {
        "id": "5u6iei5FPOas",
        "colab_type": "code",
        "outputId": "8db32112-7347-4249-fdde-ea912eca1adb",
        "colab": {
          "base_uri": "https://localhost:8080/",
          "height": 52
        }
      },
      "source": [
        "print(len(cropped_images))\n",
        "print(len(y_train_not_shuffled))"
      ],
      "execution_count": 0,
      "outputs": [
        {
          "output_type": "stream",
          "text": [
            "150942\n",
            "150942\n"
          ],
          "name": "stdout"
        }
      ]
    },
    {
      "cell_type": "code",
      "metadata": {
        "id": "NjOi1JYXJpjX",
        "colab_type": "code",
        "outputId": "c28c7c0a-2270-4b9f-83ee-1fe495547555",
        "colab": {
          "base_uri": "https://localhost:8080/",
          "height": 35
        }
      },
      "source": [
        "#Creating the y array of image classes\n",
        "\n",
        "#Train Symbols\n",
        "y_train_not_shuffled = df['symbol_id'].tolist()\n",
        "print(len(y_train_not_shuffled))\n",
        "y_train_not_shuffled.pop(151158)\n",
        "\n",
        "#Test Symbols\n",
        "y_test_not_shuffled = df_test['symbol_id'].tolist()\n",
        "\n",
        "\n",
        "\n",
        "#print(y_train[12000])\n",
        "#print(len(y_train))\n",
        "#print(type(y_train))"
      ],
      "execution_count": 0,
      "outputs": [
        {
          "output_type": "stream",
          "text": [
            "151159\n"
          ],
          "name": "stdout"
        }
      ]
    },
    {
      "cell_type": "code",
      "metadata": {
        "id": "-NjrflXU-u35",
        "colab_type": "code",
        "colab": {}
      },
      "source": [
        "#This shuffles the training/testing images images so that it is possible to break down data into batches.\n",
        "#shuffled_images, y_train = shuffle(cropped_images, y_train_not_shuffled)\n",
        "shuffled_test, y_test = shuffle(cropped_test, y_test_not_shuffled)\n"
      ],
      "execution_count": 0,
      "outputs": []
    },
    {
      "cell_type": "code",
      "metadata": {
        "id": "VTdjd2ZEXoZT",
        "colab_type": "code",
        "outputId": "21f32005-5e15-4883-f86f-a361dec80286",
        "colab": {
          "base_uri": "https://localhost:8080/",
          "height": 52
        }
      },
      "source": [
        "\n",
        "#a = ['1','2','3']\n",
        "#print(type(y_train))\n",
        "#b = shuffle(a)\n",
        "#print(b)\n",
        "#y_train = shuffle(y_train_not_shuffled)\n",
        "print(y_train[2500])\n",
        "print(y_train_not_shuffled[2500])\n",
        "#print(type(train_images))"
      ],
      "execution_count": 0,
      "outputs": [
        {
          "output_type": "stream",
          "text": [
            "889\n",
            "59\n"
          ],
          "name": "stdout"
        }
      ]
    },
    {
      "cell_type": "code",
      "metadata": {
        "id": "ZKuvw1xSZUG9",
        "colab_type": "code",
        "colab": {}
      },
      "source": [
        "#This is my conversion function. It takes the stroke data of each image and draws out the image by connecting the dots.\n",
        "\n",
        "def draw_it(points):\n",
        "    image = Image.new(\"L\", (264,264), color=255)\n",
        "    image_draw = ImageDraw.Draw(image)\n",
        "\n",
        "    for i in range(len(points)-1 ):\n",
        "      image_draw.line([points[i][0], \n",
        "                        points[i][1],\n",
        "                        points[i+1][0], \n",
        "                        points[i+1][1]],\n",
        "                      fill=0, width=2)\n",
        "    return np.array(image) "
      ],
      "execution_count": 0,
      "outputs": []
    },
    {
      "cell_type": "code",
      "metadata": {
        "id": "FyKPD6w1Zia1",
        "colab_type": "code",
        "colab": {}
      },
      "source": [
        "#shuffled_images = np.array(shuffled_images)\n",
        "print(type(new_cropped[30]))\n",
        "print(np.shape(new_cropped[30]))\n",
        "print(new_cropped[60])"
      ],
      "execution_count": 0,
      "outputs": []
    },
    {
      "cell_type": "code",
      "metadata": {
        "id": "8jYCXSl0CHJr",
        "colab_type": "code",
        "colab": {}
      },
      "source": [
        "#This will create batches of testing images so my RAM doesnt crash\n",
        "#print(len(batch_train))\n",
        "batch_train = np.split(shuffled_images,4)\n",
        "#print(len(batch_train[0]))\n",
        "batch_labels = np.split(np.array(y_train),4)\n",
        "#print(len(batch_labels))"
      ],
      "execution_count": 0,
      "outputs": []
    },
    {
      "cell_type": "code",
      "metadata": {
        "id": "NrQ_Ed2csJUL",
        "colab_type": "code",
        "colab": {}
      },
      "source": [
        "#This will create array of images for Training\n",
        "def convert(batch):\n",
        "  temp = []\n",
        "  for x in batch:\n",
        "    temp.append(draw_it(x))\n",
        "  return temp\n"
      ],
      "execution_count": 0,
      "outputs": []
    },
    {
      "cell_type": "code",
      "metadata": {
        "id": "rAC5GW3EAdiz",
        "colab_type": "code",
        "colab": {}
      },
      "source": [
        "#np.save('first_train_images',train_images)\n",
        "#!cp small_image.csv \"drive/My Drive/Data/\""
      ],
      "execution_count": 0,
      "outputs": []
    },
    {
      "cell_type": "code",
      "metadata": {
        "id": "PYr2oUluMoHW",
        "colab_type": "code",
        "colab": {}
      },
      "source": [
        "#Train Images\n",
        "#This will save the new small image array into a csv file and then save it to drive\n",
        "#split_train_images = np.split(train_images,2)\n",
        "#train_images_1 = split_train_images[0]\n",
        "#train_images_2 = split_train_images[1]\n",
        "np.save('converted_train_images',new_cropped)\n",
        "#np.savetxt('small_image.csv',new_images,fmt='%s',delimiter=',')\n",
        "!cp converted_train_images.npy \"drive/My Drive/Data/\"\n",
        "#print(small_image.csv[3000])\n",
        "#print(len(new_images))\n",
        "#print(new_images[3000])\n",
        "#print(type(new_images[3000]))"
      ],
      "execution_count": 0,
      "outputs": []
    },
    {
      "cell_type": "code",
      "metadata": {
        "id": "CO5dHZyrTLl9",
        "colab_type": "code",
        "colab": {}
      },
      "source": [
        "#This is saving the label datasets\n",
        "np.savetxt('y_train.csv',y_train,fmt='%s',delimiter=',')\n",
        "!cp y_train.csv \"drive/My Drive/Data/\"\n",
        "#print(y_train.shape)"
      ],
      "execution_count": 0,
      "outputs": []
    },
    {
      "cell_type": "code",
      "metadata": {
        "id": "eRICsDa5fPIC",
        "colab_type": "code",
        "outputId": "91aea938-8adf-4999-fed1-b2237a6ef643",
        "colab": {
          "base_uri": "https://localhost:8080/",
          "height": 35
        }
      },
      "source": [
        "#This checks the shape of all the training data\n",
        "print(new_cropped.shape)"
      ],
      "execution_count": 0,
      "outputs": [
        {
          "output_type": "stream",
          "text": [
            "(150932, 100, 100, 1)\n"
          ],
          "name": "stdout"
        }
      ]
    },
    {
      "cell_type": "code",
      "metadata": {
        "id": "C89YQNatuvGv",
        "colab_type": "code",
        "colab": {}
      },
      "source": [
        "#Test Images\n",
        "#This will create a new array with the shrunk down image sizes for testing \n",
        "raw_strokes = df_test['data']\n",
        "smallr_images = []\n",
        "for image in raw_strokes:\n",
        "  image_ar = []\n",
        "  indiv_stroke = eval(image)\n",
        "  for stroke_2 in indiv_stroke:\n",
        "    for point in stroke_2:\n",
        "      x = math.floor(point['x'] / 10)\n",
        "      y = math.floor(point['y'] / 10)\n",
        "      image_ar.append((x,y))\n",
        "  smallr_images.append(image_ar)\n",
        "test_images = np.array(smallr_images)\n"
      ],
      "execution_count": 0,
      "outputs": []
    },
    {
      "cell_type": "code",
      "metadata": {
        "id": "Xjz5yKmoxWYJ",
        "colab_type": "code",
        "colab": {}
      },
      "source": [
        "#This will crop all the test images\n",
        "cropped_test = []\n",
        "\n",
        "for imm in test_images:\n",
        "#imm = new_images[10000]\n",
        "  max_x = 0\n",
        "  max_y = 0\n",
        "  min_x = 10000\n",
        "  min_y = 10000\n",
        "  originall = PIL.Image.fromarray(draw_it(imm))\n",
        "  for x in imm:\n",
        "    max_x = max(max_x,x[0])\n",
        "    max_y = max(max_y,x[1])\n",
        "    min_x = min(min_x,x[0])\n",
        "    min_y = min(min_y,x[1])\n",
        "\n",
        "  left = min_x -10\n",
        "  right = left + 100\n",
        "  top = min_y -10\n",
        "  bottom = top + 100\n",
        "  #IPython.display.display(original)\n",
        "  originall = PIL.ImageOps.expand(originall,border=25,fill=255)\n",
        "  croppd = originall.crop((left,top,right,bottom))\n",
        "  #IPython.display.display(cropped)\n",
        "  cropped_test.append(croppd)\n",
        "  \n",
        "#print(max_x,max_y)\n",
        "#print(min_x,min_y)\n",
        "#print(max_dif,max_dif_y)\n",
        "#print(counter)"
      ],
      "execution_count": 0,
      "outputs": []
    },
    {
      "cell_type": "code",
      "metadata": {
        "id": "zT4wJpRCy4h8",
        "colab_type": "code",
        "colab": {}
      },
      "source": [
        "#This will remove all black images in test dataset\n",
        "for a in enumerate(cropped_test):\n",
        "  if a[1].getbbox() == None:\n",
        "    del cropped_test[a[0]]\n",
        "    del y_test_not_shuffled[a[0]]"
      ],
      "execution_count": 0,
      "outputs": []
    },
    {
      "cell_type": "code",
      "metadata": {
        "id": "e9UfTmZTys-I",
        "colab_type": "code",
        "outputId": "1399843b-bcd0-4fdc-8eb6-c7abe9a9f222",
        "colab": {
          "base_uri": "https://localhost:8080/",
          "height": 52
        }
      },
      "source": [
        "print(len(cropped_test))\n",
        "print(len(y_test_not_shuffled))"
      ],
      "execution_count": 0,
      "outputs": [
        {
          "output_type": "stream",
          "text": [
            "17074\n",
            "17074\n"
          ],
          "name": "stdout"
        }
      ]
    },
    {
      "cell_type": "code",
      "metadata": {
        "id": "30XVDof4zY2v",
        "colab_type": "code",
        "outputId": "bfe2f20d-ab84-4649-e6d7-3c3a537f50ed",
        "colab": {
          "base_uri": "https://localhost:8080/",
          "height": 70
        }
      },
      "source": [
        "#This will convert shuffled small test images into correct numpy array\n",
        "#new_cropped_test = []\n",
        "#for x in shuffled_test:\n",
        " # new_cropped_test.append(np.array(x))\n",
        "#new_cropped_test = np.asarray(new_cropped_test)\n",
        "print(new_cropped_test.shape)\n",
        "print(type(new_cropped_test[3]))\n",
        "print(len(y_test))\n",
        "#new_cropped_test = np.expand_dims(new_cropped_test,axis=3)"
      ],
      "execution_count": 0,
      "outputs": [
        {
          "output_type": "stream",
          "text": [
            "(17074, 100, 100, 1)\n",
            "<class 'numpy.ndarray'>\n",
            "17074\n"
          ],
          "name": "stdout"
        }
      ]
    },
    {
      "cell_type": "code",
      "metadata": {
        "id": "VOUwSYa_vzhO",
        "colab_type": "code",
        "colab": {}
      },
      "source": [
        "#Test Images\n",
        "#This will save the new small image array into a csv file and then save it to drive TESTING\n",
        "np.save('converted_test_images',new_cropped_test)\n",
        "#np.savetxt('test_images.csv',test_images,fmt='%s',delimiter=',')\n",
        "!cp converted_test_images.npy \"drive/My Drive/Data/\"\n",
        "#print(small_image.csv[3000])\n",
        "#print(len(new_images))\n",
        "#print(new_images[3000])\n",
        "#print(type(new_images[3000]))"
      ],
      "execution_count": 0,
      "outputs": []
    },
    {
      "cell_type": "code",
      "metadata": {
        "id": "IvNOTVAd5q_7",
        "colab_type": "code",
        "colab": {}
      },
      "source": [
        "#This saves the test labels as csv\n",
        "np.savetxt('y_test.csv',y_test,fmt='%s',delimiter=',')\n",
        "!cp y_test.csv \"drive/My Drive/Data/\""
      ],
      "execution_count": 0,
      "outputs": []
    },
    {
      "cell_type": "code",
      "metadata": {
        "id": "42Aj5jZWZ4PE",
        "colab_type": "code",
        "colab": {}
      },
      "source": [
        "#draw_it(new_images[20000])\n",
        "print(type(train_images[50]))\n",
        "image = PIL.Image.fromarray(train_images[50])\n",
        "imagee = PIL.ImageOps.expand(image,border=2)\n",
        "IPython.display.display(imagee)\n",
        "#IPython.display.display(PIL.Image.fromarray(imagee))"
      ],
      "execution_count": 0,
      "outputs": []
    },
    {
      "cell_type": "code",
      "metadata": {
        "id": "RVcGbGD5codK",
        "colab_type": "code",
        "colab": {}
      },
      "source": [
        "#This is a tester block that I made to print out 10 random images using my conversion method above\n",
        "\n",
        "#raw_strokes = df['data']\n",
        "#symbols = df['symbol_id']\n",
        "\n",
        "for i in range(100):\n",
        "  x = random.randrange(0,80000)\n",
        "  im = draw_it(new_images[x])\n",
        "  image = PIL.Image.fromarray(im)\n",
        "  imagel = PIL.ImageOps.expand(image,border=2)\n",
        "  IPython.display.display(imagel)\n"
      ],
      "execution_count": 0,
      "outputs": []
    },
    {
      "cell_type": "code",
      "metadata": {
        "id": "EAbzRdQa-vXC",
        "colab_type": "code",
        "colab": {}
      },
      "source": [
        "#________________________________________________________________________________________________________________________________________________________________________________\n",
        "#____________________________________________________________________________________________________________________________________________________________________\n",
        "#This will start my Pipeline\n",
        "#I will build a simple sequential Keras model first\n",
        "path = \"/content/drive/My Drive/Data/y_train.csv\"\n",
        "dftrain = pd.read_csv(path, sep= \";\", header = None,quotechar=\"'\")\n",
        "dftrain = np.asarray(dftrain)\n",
        "#dftrain = dftrain -31\n",
        "path2 = \"/content/drive/My Drive/Data/y_test.csv\"\n",
        "dftest = pd.read_csv(path2, sep= \";\", header = None,quotechar=\"'\")\n",
        "dftest = np.asarray(dftest)\n",
        "#dftest = dftest - 31\n",
        "path3 = \"/content/drive/My Drive/Data/converted_train_images.npy\"\n",
        "train_images = np.load(path3)\n",
        "path4 = \"/content/drive/My Drive/Data/converted_test_images.npy\"\n",
        "test_images = np.load(path4)\n",
        "path5 = \"/content/drive/My Drive/Data/symbols.csv\"\n",
        "dfsymbols = pd.read_csv(path5, sep= \";\", header = None,quotechar=\"'\")\n",
        "dflabels = dfsymbols.iloc[1:,1]\n",
        "dflabels = np.asarray(dflabels)\n",
        "dfsymbols = dfsymbols.iloc[1:,0]\n",
        "dfsymbols = np.asarray(dfsymbols)"
      ],
      "execution_count": 0,
      "outputs": []
    },
    {
      "cell_type": "code",
      "metadata": {
        "id": "vsLqTRfnXobm",
        "colab_type": "code",
        "outputId": "153941dc-963e-4eba-90c7-dfd64990bf06",
        "colab": {
          "base_uri": "https://localhost:8080/",
          "height": 52
        }
      },
      "source": [
        "#Checking the shape of all my data\n",
        "print(train_images.shape)\n",
        "print(test_images.shape)"
      ],
      "execution_count": 4,
      "outputs": [
        {
          "output_type": "stream",
          "text": [
            "(150942, 100, 100, 1)\n",
            "(17074, 100, 100, 1)\n"
          ],
          "name": "stdout"
        }
      ]
    },
    {
      "cell_type": "code",
      "metadata": {
        "id": "-Jo05iJIj4tv",
        "colab_type": "code",
        "colab": {}
      },
      "source": [
        "#Preprocessing images\n",
        "train_images = train_images/255.0\n",
        "test_images = test_images/255.0\n"
      ],
      "execution_count": 0,
      "outputs": []
    },
    {
      "cell_type": "code",
      "metadata": {
        "id": "-1u3uRSJHn2f",
        "colab_type": "code",
        "colab": {}
      },
      "source": [
        "#Creating dictionary\n",
        "print(dfsymbols[0])\n",
        "print(len(dfsymbols))\n",
        "Dict = {}\n",
        "for x,y in enumerate(dfsymbols):\n",
        "  Dict.update({y:x})"
      ],
      "execution_count": 0,
      "outputs": []
    },
    {
      "cell_type": "code",
      "metadata": {
        "id": "FUWzuTRW169Y",
        "colab_type": "code",
        "colab": {}
      },
      "source": [
        "#creating mapping dictionary\n",
        "alphabet = {}\n",
        "for c in range(369):\n",
        "  alphabet.update({c:dflabels[c]})"
      ],
      "execution_count": 0,
      "outputs": []
    },
    {
      "cell_type": "code",
      "metadata": {
        "id": "p6DOZ7BW5ZLv",
        "colab_type": "code",
        "colab": {}
      },
      "source": [
        "#saving mapping dictionary\n",
        "np.save(\"/content/drive/My Drive/Data/mapping_dictionary.npy\",alphabet)"
      ],
      "execution_count": 0,
      "outputs": []
    },
    {
      "cell_type": "code",
      "metadata": {
        "id": "OModIS9TLeZ1",
        "colab_type": "code",
        "colab": {}
      },
      "source": [
        "#Adjusting training labels\n",
        "temp = []\n",
        "for x in range(len(dftrain)):\n",
        "  number = dftrain[x][0]\n",
        "  #print(number)\n",
        "  b = Dict[str(number)]\n",
        "  #print(a)\n",
        "  temp.append(b)"
      ],
      "execution_count": 0,
      "outputs": []
    },
    {
      "cell_type": "code",
      "metadata": {
        "id": "bGouohhqVjdx",
        "colab_type": "code",
        "colab": {}
      },
      "source": [
        "#Saving new training symbols\n",
        "np.savetxt('y_train.csv',temp,fmt='%s',delimiter=',')\n",
        "!cp y_train.csv \"drive/My Drive/Data/\""
      ],
      "execution_count": 0,
      "outputs": []
    },
    {
      "cell_type": "code",
      "metadata": {
        "id": "n8C6RX6SWACq",
        "colab_type": "code",
        "colab": {}
      },
      "source": [
        "#Doing the same thing for the test symbols\n",
        "tempo = []\n",
        "for x in range(len(dftest)):\n",
        "  numberr = dftest[x][0]\n",
        "  #print(number)\n",
        "  c = Dict[str(numberr)]\n",
        "  #print(a)\n",
        "  tempo.append(c)"
      ],
      "execution_count": 0,
      "outputs": []
    },
    {
      "cell_type": "code",
      "metadata": {
        "id": "f9nurVK4Wkq_",
        "colab_type": "code",
        "colab": {}
      },
      "source": [
        "#Saving new test symbols\n",
        "np.savetxt('y_test.csv',tempo,fmt='%s',delimiter=',')\n",
        "!cp y_test.csv \"drive/My Drive/Data/\""
      ],
      "execution_count": 0,
      "outputs": []
    },
    {
      "cell_type": "code",
      "metadata": {
        "id": "rHzH1rF-rBCV",
        "colab_type": "code",
        "colab": {}
      },
      "source": [
        "#Building sequential model\n",
        "model = Sequential()\n",
        "model.add(Conv2D(filters=32,kernel_size=(3,3), padding='same', activation='relu',input_shape=[100,100,1] ))\n",
        "model.add(Conv2D(filters=64,kernel_size=(3,3), padding='same', activation='relu'))\n",
        "model.add(MaxPooling2D(pool_size=(2,2), strides=2, padding='valid'))\n",
        "model.add(Dropout(.25))\n",
        "model.add(Flatten())\n",
        "model.add(Dense(units=128, activation='relu',))\n",
        "model.add(Dropout(.2))\n",
        "model.add(Dense(units=369, activation='softmax'))"
      ],
      "execution_count": 0,
      "outputs": []
    },
    {
      "cell_type": "code",
      "metadata": {
        "id": "y6QcoygGrJgp",
        "colab_type": "code",
        "outputId": "e70bdb94-fb36-4731-f083-216570154922",
        "colab": {
          "base_uri": "https://localhost:8080/",
          "height": 439
        }
      },
      "source": [
        "#Adding layers\n",
        "model.summary()"
      ],
      "execution_count": 7,
      "outputs": [
        {
          "output_type": "stream",
          "text": [
            "Model: \"sequential\"\n",
            "_________________________________________________________________\n",
            "Layer (type)                 Output Shape              Param #   \n",
            "=================================================================\n",
            "conv2d (Conv2D)              (None, 100, 100, 32)      320       \n",
            "_________________________________________________________________\n",
            "conv2d_1 (Conv2D)            (None, 100, 100, 64)      18496     \n",
            "_________________________________________________________________\n",
            "max_pooling2d (MaxPooling2D) (None, 50, 50, 64)        0         \n",
            "_________________________________________________________________\n",
            "dropout (Dropout)            (None, 50, 50, 64)        0         \n",
            "_________________________________________________________________\n",
            "flatten (Flatten)            (None, 160000)            0         \n",
            "_________________________________________________________________\n",
            "dense (Dense)                (None, 128)               20480128  \n",
            "_________________________________________________________________\n",
            "dropout_1 (Dropout)          (None, 128)               0         \n",
            "_________________________________________________________________\n",
            "dense_1 (Dense)              (None, 369)               47601     \n",
            "=================================================================\n",
            "Total params: 20,546,545\n",
            "Trainable params: 20,546,545\n",
            "Non-trainable params: 0\n",
            "_________________________________________________________________\n"
          ],
          "name": "stdout"
        }
      ]
    },
    {
      "cell_type": "code",
      "metadata": {
        "id": "aLNOuNIrxwIa",
        "colab_type": "code",
        "colab": {}
      },
      "source": [
        "#Compiling model\n",
        "model.compile(optimizer='adam',loss='sparse_categorical_crossentropy',metrics=['sparse_categorical_accuracy'])\n",
        "#logdir = os.path.join(logs_base_dir, datetime.datetime.now().strftime(\"%Y%m%d-%H%M%S\"))\n",
        "#tensorboard_callback = tf.keras.callbacks.TensorBoard(logdir, histogram_freq=1)"
      ],
      "execution_count": 0,
      "outputs": []
    },
    {
      "cell_type": "code",
      "metadata": {
        "id": "CaLbha4CyIie",
        "colab_type": "code",
        "outputId": "5073ef38-8e95-4c20-9fb2-1b3e3fcf790a",
        "colab": {
          "base_uri": "https://localhost:8080/",
          "height": 316
        }
      },
      "source": [
        "#Training Model\n",
        "history=model.fit(train_images,dftrain, batch_size=400,epochs=8, verbose=1, validation_data=(test_images,dftest))"
      ],
      "execution_count": 0,
      "outputs": [
        {
          "output_type": "stream",
          "text": [
            "Train on 150942 samples, validate on 17074 samples\n",
            "Epoch 1/8\n",
            "150942/150942 [==============================] - 3811s 25ms/sample - loss: 4.3341 - sparse_categorical_accuracy: 0.1611 - val_loss: 3.4374 - val_sparse_categorical_accuracy: 0.2790\n",
            "Epoch 2/8\n",
            "150942/150942 [==============================] - 3797s 25ms/sample - loss: 2.8982 - sparse_categorical_accuracy: 0.3330 - val_loss: 2.8438 - val_sparse_categorical_accuracy: 0.3734\n",
            "Epoch 3/8\n",
            "150942/150942 [==============================] - 3825s 25ms/sample - loss: 2.6516 - sparse_categorical_accuracy: 0.3711 - val_loss: 2.7665 - val_sparse_categorical_accuracy: 0.3920\n",
            "Epoch 4/8\n",
            "150942/150942 [==============================] - 3831s 25ms/sample - loss: 2.5425 - sparse_categorical_accuracy: 0.3893 - val_loss: 2.5363 - val_sparse_categorical_accuracy: 0.4322\n",
            "Epoch 5/8\n",
            "150942/150942 [==============================] - 3831s 25ms/sample - loss: 2.4475 - sparse_categorical_accuracy: 0.4056 - val_loss: 2.4955 - val_sparse_categorical_accuracy: 0.4346\n",
            "Epoch 6/8\n",
            "150942/150942 [==============================] - 3832s 25ms/sample - loss: 2.3518 - sparse_categorical_accuracy: 0.4207 - val_loss: 2.4491 - val_sparse_categorical_accuracy: 0.4414\n",
            "Epoch 7/8\n",
            "150942/150942 [==============================] - 3821s 25ms/sample - loss: 2.2841 - sparse_categorical_accuracy: 0.4346 - val_loss: 2.3059 - val_sparse_categorical_accuracy: 0.4729\n",
            "Epoch 8/8\n",
            " 85600/150942 [================>.............] - ETA: 26:48 - loss: 2.2411 - sparse_categorical_accuracy: 0.4416"
          ],
          "name": "stdout"
        }
      ]
    },
    {
      "cell_type": "code",
      "metadata": {
        "id": "4TqvT5rcMCZk",
        "colab_type": "code",
        "outputId": "550ca91d-522d-4798-ead3-cb4617b66615",
        "colab": {
          "base_uri": "https://localhost:8080/",
          "height": 107
        }
      },
      "source": [
        "model.save(\"/content/drive/My Drive/Data/first_model_weights\",save_format='tf',)"
      ],
      "execution_count": 0,
      "outputs": [
        {
          "output_type": "stream",
          "text": [
            "WARNING:tensorflow:From /usr/local/lib/python3.6/dist-packages/tensorflow_core/python/ops/resource_variable_ops.py:1781: calling BaseResourceVariable.__init__ (from tensorflow.python.ops.resource_variable_ops) with constraint is deprecated and will be removed in a future version.\n",
            "Instructions for updating:\n",
            "If using Keras pass *_constraint arguments to layers.\n",
            "INFO:tensorflow:Assets written to: /content/drive/My Drive/Data/first_model_weights/assets\n"
          ],
          "name": "stdout"
        }
      ]
    },
    {
      "cell_type": "code",
      "metadata": {
        "id": "n6zpsUM5NWP8",
        "colab_type": "code",
        "colab": {}
      },
      "source": [
        "#Plotting my models validation vs training accuracy\n",
        "logs_base_dir = \"./logs\"\n",
        "os.makedirs(logs_base_dir, exist_ok=True)\n",
        "%tensorboard --logdir {logs_base_dir}"
      ],
      "execution_count": 0,
      "outputs": []
    },
    {
      "cell_type": "code",
      "metadata": {
        "id": "TJ7LHZ4LPWtP",
        "colab_type": "code",
        "colab": {}
      },
      "source": [
        "#Checking the models predictions on some images\n",
        "loaded_model = tf.keras.models.load_model('/content/drive/My Drive/Data/first_model_weights')\n"
      ],
      "execution_count": 0,
      "outputs": []
    },
    {
      "cell_type": "code",
      "metadata": {
        "id": "ikqxPy0n9e6n",
        "colab_type": "code",
        "outputId": "40dcaa3d-1017-4a54-afb9-919185f07612",
        "colab": {
          "base_uri": "https://localhost:8080/",
          "height": 404
        }
      },
      "source": [
        "#Checking Loaded model\n",
        "loaded_model.summary()"
      ],
      "execution_count": 0,
      "outputs": [
        {
          "output_type": "stream",
          "text": [
            "Model: \"sequential_5\"\n",
            "_________________________________________________________________\n",
            "Layer (type)                 Output Shape              Param #   \n",
            "=================================================================\n",
            "conv2d_10 (Conv2D)           (None, 100, 100, 32)      320       \n",
            "_________________________________________________________________\n",
            "conv2d_11 (Conv2D)           (None, 100, 100, 32)      9248      \n",
            "_________________________________________________________________\n",
            "max_pooling2d_5 (MaxPooling2 (None, 50, 50, 32)        0         \n",
            "_________________________________________________________________\n",
            "dropout_5 (Dropout)          (None, 50, 50, 32)        0         \n",
            "_________________________________________________________________\n",
            "flatten_5 (Flatten)          (None, 80000)             0         \n",
            "_________________________________________________________________\n",
            "dense_10 (Dense)             (None, 128)               10240128  \n",
            "_________________________________________________________________\n",
            "dense_11 (Dense)             (None, 369)               47601     \n",
            "=================================================================\n",
            "Total params: 10,297,297\n",
            "Trainable params: 10,297,297\n",
            "Non-trainable params: 0\n",
            "_________________________________________________________________\n"
          ],
          "name": "stdout"
        }
      ]
    },
    {
      "cell_type": "code",
      "metadata": {
        "id": "_2uAIaAJQ0DQ",
        "colab_type": "code",
        "outputId": "ed98c9fb-777b-4471-d942-fa2fdfe00ab8",
        "colab": {
          "base_uri": "https://localhost:8080/",
          "height": 34
        }
      },
      "source": [
        "#Predicting with the first model\n",
        "#predictions = loaded_model.predict_classes(test_images,batch_size=50,verbose=1)\n",
        "#len(predictions)\n",
        "min(predictions)"
      ],
      "execution_count": 0,
      "outputs": [
        {
          "output_type": "execute_result",
          "data": {
            "text/plain": [
              "101"
            ]
          },
          "metadata": {
            "tags": []
          },
          "execution_count": 110
        }
      ]
    },
    {
      "cell_type": "code",
      "metadata": {
        "id": "iBmL86YKAoTl",
        "colab_type": "code",
        "outputId": "30adb998-4c7d-4405-aedc-830496654c6a",
        "colab": {
          "base_uri": "https://localhost:8080/",
          "height": 34
        }
      },
      "source": [
        "#Reshaping image\n",
        "#test_loss, test_acc = loaded_model.evaluate(test_images,  dftest, verbose=2)\n",
        "len(predictions)"
      ],
      "execution_count": 0,
      "outputs": [
        {
          "output_type": "execute_result",
          "data": {
            "text/plain": [
              "17074"
            ]
          },
          "metadata": {
            "tags": []
          },
          "execution_count": 51
        }
      ]
    },
    {
      "cell_type": "code",
      "metadata": {
        "id": "_K6JNLsTAPr0",
        "colab_type": "code",
        "colab": {}
      },
      "source": [
        "#Visualizing images\n",
        "image = np.reshape(test_images[17],(100,100))\n",
        "plt.figure()\n",
        "plt.imshow(image)\n",
        "plt.colorbar()\n",
        "plt.grid(False)\n",
        "plt.show()"
      ],
      "execution_count": 0,
      "outputs": []
    },
    {
      "cell_type": "code",
      "metadata": {
        "id": "quIQLubNpfuy",
        "colab_type": "code",
        "outputId": "b3fc4fcb-8be9-497e-f6fd-209b3bdb533d",
        "colab": {
          "base_uri": "https://localhost:8080/",
          "height": 1000
        }
      },
      "source": [
        "#Images and predictions\n",
        "for x in range(30,40):\n",
        "    #image = mpimg.imread(filename)\n",
        "    #<something gets done here>\n",
        "    im =test_images[x]\n",
        "    im = np.reshape(im,(100,100))\n",
        "    plt.figure()\n",
        "    plt.imshow(im)\n",
        "    label = alphabet[predictions[x]]\n",
        "    plt.xlabel(label)\n",
        "    print(alphabet[dftest[x][0]])\n",
        "    print(predictions[x])"
      ],
      "execution_count": 0,
      "outputs": [
        {
          "output_type": "stream",
          "text": [
            "\\Theta\n",
            "193\n",
            "\\lightning\n",
            "101\n",
            "\\llbracket\n",
            "101\n",
            "\\vee\n",
            "193\n",
            "\\bot\n",
            "193\n",
            "\\diamondsuit\n",
            "193\n",
            "\\mp\n",
            "101\n",
            "\\beta\n",
            "193\n",
            "\\mathds{R}\n",
            "193\n",
            "\\parallel\n",
            "101\n"
          ],
          "name": "stdout"
        },
        {
          "output_type": "display_data",
          "data": {
            "image/png": "[encoded data removed]",
            "text/plain": [
              "<Figure size 432x288 with 1 Axes>"
            ]
          },
          "metadata": {
            "tags": []
          }
        },
        {
          "output_type": "display_data",
          "data": {
            "image/png": "[encoded data removed]",
            "text/plain": [
              "<Figure size 432x288 with 1 Axes>"
            ]
          },
          "metadata": {
            "tags": []
          }
        },
        {
          "output_type": "display_data",
          "data": {
            "image/png": "[encoded data removed]",
            "text/plain": [
              "<Figure size 432x288 with 1 Axes>"
            ]
          },
          "metadata": {
            "tags": []
          }
        },
        {
          "output_type": "display_data",
          "data": {
            "image/png": "[encoded data removed]",
            "text/plain": [
              "<Figure size 432x288 with 1 Axes>"
            ]
          },
          "metadata": {
            "tags": []
          }
        },
        {
          "output_type": "display_data",
          "data": {
            "image/png": "[encoded data removed]",
            "text/plain": [
              "<Figure size 432x288 with 1 Axes>"
            ]
          },
          "metadata": {
            "tags": []
          }
        },
        {
          "output_type": "display_data",
          "data": {
            "image/png": "[encoded data removed]",
            "text/plain": [
              "<Figure size 432x288 with 1 Axes>"
            ]
          },
          "metadata": {
            "tags": []
          }
        },
        {
          "output_type": "display_data",
          "data": {
            "image/png": "[encoded data removed]",
            "text/plain": [
              "<Figure size 432x288 with 1 Axes>"
            ]
          },
          "metadata": {
            "tags": []
          }
        },
        {
          "output_type": "display_data",
          "data": {
            "image/png": "[encoded data removed]",
            "text/plain": [
              "<Figure size 432x288 with 1 Axes>"
            ]
          },
          "metadata": {
            "tags": []
          }
        },
        {
          "output_type": "display_data",
          "data": {
            "image/png": "[encoded data removed]",
            "text/plain": [
              "<Figure size 432x288 with 1 Axes>"
            ]
          },
          "metadata": {
            "tags": []
          }
        },
        {
          "output_type": "display_data",
          "data": {
            "image/png": "[encoded data removed]",
            "text/plain": [
              "<Figure size 432x288 with 1 Axes>"
            ]
          },
          "metadata": {
            "tags": []
          }
        }
      ]
    }
  ]
}